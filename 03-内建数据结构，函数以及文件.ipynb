{
 "cells": [
  {
   "cell_type": "markdown",
   "id": "5c0e46b4-f1f7-4fca-a8c3-4a3474b16f6b",
   "metadata": {},
   "source": [
    "## 3.1 数据结构与序列"
   ]
  },
  {
   "cell_type": "markdown",
   "id": "6ffaabc3-7f0b-4178-b4ab-8f399cbba099",
   "metadata": {},
   "source": [
    "**元组**"
   ]
  },
  {
   "cell_type": "markdown",
   "id": "36eed1db-71fe-4b0a-8919-30cd22f5b4cb",
   "metadata": {},
   "source": [
    "元组是一种固定长度，不可变的Python对象序列。"
   ]
  },
  {
   "cell_type": "code",
   "execution_count": 42,
   "id": "2fec79cc-3061-4f6e-8961-dc9b00fa2198",
   "metadata": {},
   "outputs": [],
   "source": [
    "tup = 1, 2, 3"
   ]
  },
  {
   "cell_type": "code",
   "execution_count": 43,
   "id": "0f2398b7-79ad-4e1e-a21d-5ad4558faf38",
   "metadata": {},
   "outputs": [
    {
     "data": {
      "text/plain": [
       "tuple"
      ]
     },
     "execution_count": 43,
     "metadata": {},
     "output_type": "execute_result"
    }
   ],
   "source": [
    "type(tup)"
   ]
  },
  {
   "cell_type": "code",
   "execution_count": 44,
   "id": "7de2398e-3dc1-4b0a-95ee-5717e2b6bbbe",
   "metadata": {},
   "outputs": [],
   "source": [
    "nested_tup = (4, 5, 6)"
   ]
  },
  {
   "cell_type": "code",
   "execution_count": 45,
   "id": "9a993697-680d-4b5e-9a02-2ef50f4093b9",
   "metadata": {},
   "outputs": [
    {
     "data": {
      "text/plain": [
       "tuple"
      ]
     },
     "execution_count": 45,
     "metadata": {},
     "output_type": "execute_result"
    }
   ],
   "source": [
    "type(tup)"
   ]
  },
  {
   "cell_type": "code",
   "execution_count": 46,
   "id": "ef4b7869-784e-43fa-b74f-8193231776b8",
   "metadata": {},
   "outputs": [],
   "source": [
    "nested_tup_2 = (1, 2, 3), (4, 5, 6)"
   ]
  },
  {
   "cell_type": "code",
   "execution_count": 47,
   "id": "3493d6c2-078d-491e-a3c3-88f16130d508",
   "metadata": {},
   "outputs": [
    {
     "data": {
      "text/plain": [
       "((1, 2, 3), (4, 5, 6))"
      ]
     },
     "execution_count": 47,
     "metadata": {},
     "output_type": "execute_result"
    }
   ],
   "source": [
    "nested_tup_2"
   ]
  },
  {
   "cell_type": "markdown",
   "id": "9840d3eb-4670-4cf0-8d8a-2a1df27a68d0",
   "metadata": {},
   "source": [
    "元组是不可变的："
   ]
  },
  {
   "cell_type": "code",
   "execution_count": 48,
   "id": "9ca9aae0-a028-4ca7-957a-8b019856bd09",
   "metadata": {},
   "outputs": [
    {
     "data": {
      "text/plain": [
       "4"
      ]
     },
     "execution_count": 48,
     "metadata": {},
     "output_type": "execute_result"
    }
   ],
   "source": [
    "nested_tup[0]"
   ]
  },
  {
   "cell_type": "code",
   "execution_count": 49,
   "id": "34f52807-0f20-4391-b067-466d313a5149",
   "metadata": {},
   "outputs": [
    {
     "ename": "TypeError",
     "evalue": "'tuple' object does not support item assignment",
     "output_type": "error",
     "traceback": [
      "\u001b[1;31m---------------------------------------------------------------------------\u001b[0m",
      "\u001b[1;31mTypeError\u001b[0m                                 Traceback (most recent call last)",
      "Input \u001b[1;32mIn [49]\u001b[0m, in \u001b[0;36m<cell line: 1>\u001b[1;34m()\u001b[0m\n\u001b[1;32m----> 1\u001b[0m \u001b[43mnested_tup\u001b[49m\u001b[43m[\u001b[49m\u001b[38;5;241;43m0\u001b[39;49m\u001b[43m]\u001b[49m \u001b[38;5;241m=\u001b[39m \u001b[38;5;241m13\u001b[39m\n",
      "\u001b[1;31mTypeError\u001b[0m: 'tuple' object does not support item assignment"
     ]
    }
   ],
   "source": [
    "nested_tup[0] = 13  # 这会报错"
   ]
  },
  {
   "cell_type": "code",
   "execution_count": 50,
   "id": "caf51acc-c9e8-462d-8333-63c915708095",
   "metadata": {},
   "outputs": [],
   "source": [
    "# 我们可以直接乘一个数字\n",
    "tup_mul = (1, 2, 3) * 4"
   ]
  },
  {
   "cell_type": "code",
   "execution_count": 51,
   "id": "0ed52920-ef71-4ef0-a4a2-677e1ffc9029",
   "metadata": {},
   "outputs": [
    {
     "data": {
      "text/plain": [
       "(1, 2, 3, 1, 2, 3, 1, 2, 3, 1, 2, 3)"
      ]
     },
     "execution_count": 51,
     "metadata": {},
     "output_type": "execute_result"
    }
   ],
   "source": [
    "tup_mul"
   ]
  },
  {
   "cell_type": "markdown",
   "id": "0da25750-8fb3-4eb1-86b0-2e0f9da6146d",
   "metadata": {},
   "source": [
    "我们可以对元组进行拆包："
   ]
  },
  {
   "cell_type": "code",
   "execution_count": 52,
   "id": "0f7d1a72-73d9-4078-9fc3-fd7a0261a1b6",
   "metadata": {},
   "outputs": [],
   "source": [
    "tup = (1, 2, 3)\n",
    "\n",
    "a, b, c = tup"
   ]
  },
  {
   "cell_type": "code",
   "execution_count": 53,
   "id": "444f9413-2be3-4263-ad5f-ca97614d4cd7",
   "metadata": {},
   "outputs": [
    {
     "data": {
      "text/plain": [
       "1"
      ]
     },
     "execution_count": 53,
     "metadata": {},
     "output_type": "execute_result"
    }
   ],
   "source": [
    "a"
   ]
  },
  {
   "cell_type": "code",
   "execution_count": 54,
   "id": "5a7679a0-34b9-4653-aafd-6ee0eaa363cc",
   "metadata": {},
   "outputs": [
    {
     "data": {
      "text/plain": [
       "2"
      ]
     },
     "execution_count": 54,
     "metadata": {},
     "output_type": "execute_result"
    }
   ],
   "source": [
    "b"
   ]
  },
  {
   "cell_type": "code",
   "execution_count": 55,
   "id": "73a25c21-0bab-4bbb-948e-f6173e70a16f",
   "metadata": {},
   "outputs": [
    {
     "data": {
      "text/plain": [
       "3"
      ]
     },
     "execution_count": 55,
     "metadata": {},
     "output_type": "execute_result"
    }
   ],
   "source": [
    "c"
   ]
  },
  {
   "cell_type": "code",
   "execution_count": 56,
   "id": "f944c365-6eae-4220-933b-d19e2f52e336",
   "metadata": {},
   "outputs": [
    {
     "data": {
      "text/plain": [
       "7"
      ]
     },
     "execution_count": 56,
     "metadata": {},
     "output_type": "execute_result"
    }
   ],
   "source": [
    "# 计算元组的长度\n",
    "tup = (1, 2, 3, 4, 5, 6, 7)\n",
    "len(tup)"
   ]
  },
  {
   "cell_type": "code",
   "execution_count": 57,
   "id": "78468183-74ba-4571-b0bb-cef2fe9215b4",
   "metadata": {},
   "outputs": [
    {
     "data": {
      "text/plain": [
       "4"
      ]
     },
     "execution_count": 57,
     "metadata": {},
     "output_type": "execute_result"
    }
   ],
   "source": [
    "# 计算某一个数字出现的频率\n",
    "tup = (1, 2, 3, 4, 5, 2, 2, 2)\n",
    "\n",
    "tup.count(2)"
   ]
  },
  {
   "cell_type": "markdown",
   "id": "3a8a1c9e-e89e-4079-aa27-9c585f364025",
   "metadata": {},
   "source": [
    "**列表**"
   ]
  },
  {
   "cell_type": "markdown",
   "id": "f9490196-7ef0-4121-bb06-1a9cc2481cf4",
   "metadata": {},
   "source": [
    "列表与元组不同，列表的长度可变的，包含的内容也是可变的。"
   ]
  },
  {
   "cell_type": "code",
   "execution_count": 58,
   "id": "f348623c-fdc1-4dc5-a00b-5fd0c3c76dc3",
   "metadata": {},
   "outputs": [],
   "source": [
    "list_1 = [1, 2, 3, 4, None]"
   ]
  },
  {
   "cell_type": "code",
   "execution_count": 59,
   "id": "66c747d2-e6aa-4c1e-9309-6997daca6759",
   "metadata": {},
   "outputs": [
    {
     "data": {
      "text/plain": [
       "2"
      ]
     },
     "execution_count": 59,
     "metadata": {},
     "output_type": "execute_result"
    }
   ],
   "source": [
    "list_1[1]"
   ]
  },
  {
   "cell_type": "code",
   "execution_count": 60,
   "id": "11788925-ad96-4515-9590-f03aa1802a3d",
   "metadata": {},
   "outputs": [],
   "source": [
    "list_1[1] = 100"
   ]
  },
  {
   "cell_type": "code",
   "execution_count": 61,
   "id": "2433b5db-fa02-4967-8d57-2db5f1ecfad4",
   "metadata": {},
   "outputs": [
    {
     "data": {
      "text/plain": [
       "[1, 100, 3, 4, None]"
      ]
     },
     "execution_count": 61,
     "metadata": {},
     "output_type": "execute_result"
    }
   ],
   "source": [
    "list_1"
   ]
  },
  {
   "cell_type": "code",
   "execution_count": 62,
   "id": "9ad1a6be-c3ca-4508-96a8-166b38c0522b",
   "metadata": {},
   "outputs": [],
   "source": [
    "# 使用append来在列表的尾部添加元素\n",
    "list_1.append(\"Append\")"
   ]
  },
  {
   "cell_type": "code",
   "execution_count": 63,
   "id": "0dc72584-87d9-4dc7-8046-cf3a3ff3af0b",
   "metadata": {},
   "outputs": [
    {
     "data": {
      "text/plain": [
       "[1, 100, 3, 4, None, 'Append']"
      ]
     },
     "execution_count": 63,
     "metadata": {},
     "output_type": "execute_result"
    }
   ],
   "source": [
    "list_1"
   ]
  },
  {
   "cell_type": "code",
   "execution_count": 64,
   "id": "862caa34-505b-42cf-aeef-e9385cf4c6d9",
   "metadata": {},
   "outputs": [],
   "source": [
    "# 使用insert方法来将元素插入到指定的列表位置"
   ]
  },
  {
   "cell_type": "code",
   "execution_count": 65,
   "id": "44c69fac-6736-4b16-a315-75786bac6be7",
   "metadata": {},
   "outputs": [],
   "source": [
    "list_1.insert(1, \"Yellow\")"
   ]
  },
  {
   "cell_type": "code",
   "execution_count": 66,
   "id": "ecea9a3d-d82e-46d3-aecf-5f25ac6b5cdb",
   "metadata": {},
   "outputs": [
    {
     "data": {
      "text/plain": [
       "[1, 'Yellow', 100, 3, 4, None, 'Append']"
      ]
     },
     "execution_count": 66,
     "metadata": {},
     "output_type": "execute_result"
    }
   ],
   "source": [
    "list_1"
   ]
  },
  {
   "cell_type": "code",
   "execution_count": 67,
   "id": "1c8f2263-3352-4b55-b475-8720f44937ca",
   "metadata": {},
   "outputs": [],
   "source": [
    "# pop可以弹出指定的元素，如果没有给出指定，则默认为列表的最后一个元素"
   ]
  },
  {
   "cell_type": "code",
   "execution_count": 68,
   "id": "bfea4c2b-bdad-4c05-8c4a-123998cf470b",
   "metadata": {},
   "outputs": [],
   "source": [
    "pop_ele = list_1.pop()"
   ]
  },
  {
   "cell_type": "code",
   "execution_count": 69,
   "id": "18410f5d-55ff-4ad1-882c-509de17d06bf",
   "metadata": {},
   "outputs": [
    {
     "data": {
      "text/plain": [
       "'Append'"
      ]
     },
     "execution_count": 69,
     "metadata": {},
     "output_type": "execute_result"
    }
   ],
   "source": [
    "pop_ele"
   ]
  },
  {
   "cell_type": "code",
   "execution_count": 70,
   "id": "fdb5c200-1d6c-4289-84a5-c9c9a4dcf23f",
   "metadata": {},
   "outputs": [
    {
     "data": {
      "text/plain": [
       "[1, 'Yellow', 100, 3, 4, None]"
      ]
     },
     "execution_count": 70,
     "metadata": {},
     "output_type": "execute_result"
    }
   ],
   "source": [
    "list_1"
   ]
  },
  {
   "cell_type": "code",
   "execution_count": 71,
   "id": "06260e98-9e20-4492-accd-72b60e632305",
   "metadata": {},
   "outputs": [],
   "source": [
    "# 给pop一个指定的位置\n",
    "pop_ele_2 = list_1.pop(1)"
   ]
  },
  {
   "cell_type": "code",
   "execution_count": 72,
   "id": "23012490-7afd-418a-b3ed-46049662e2f5",
   "metadata": {},
   "outputs": [
    {
     "data": {
      "text/plain": [
       "'Yellow'"
      ]
     },
     "execution_count": 72,
     "metadata": {},
     "output_type": "execute_result"
    }
   ],
   "source": [
    "pop_ele_2"
   ]
  },
  {
   "cell_type": "code",
   "execution_count": 73,
   "id": "b78e21ed-63bd-488e-9a4b-0c7e2cb64e07",
   "metadata": {},
   "outputs": [
    {
     "data": {
      "text/plain": [
       "[1, 100, 3, 4, None]"
      ]
     },
     "execution_count": 73,
     "metadata": {},
     "output_type": "execute_result"
    }
   ],
   "source": [
    "list_1"
   ]
  },
  {
   "cell_type": "code",
   "execution_count": 74,
   "id": "d00b8fc5-c0c3-48cf-8f09-8c645ccd96a7",
   "metadata": {},
   "outputs": [],
   "source": [
    "# remove 则是移除第一个复合要求的元素\n",
    "list_2 = [1, 1, 2, 3, 4, 4, 5, 6, 1, 1]\n",
    "list_2.remove(4)"
   ]
  },
  {
   "cell_type": "code",
   "execution_count": 75,
   "id": "2537aa1d-1754-43ac-b12f-1995c0fff3b1",
   "metadata": {},
   "outputs": [
    {
     "data": {
      "text/plain": [
       "[1, 1, 2, 3, 4, 5, 6, 1, 1]"
      ]
     },
     "execution_count": 75,
     "metadata": {},
     "output_type": "execute_result"
    }
   ],
   "source": [
    "list_2"
   ]
  },
  {
   "cell_type": "code",
   "execution_count": 76,
   "id": "dcf03094-522a-423e-9d08-2317e93cf7fd",
   "metadata": {},
   "outputs": [
    {
     "data": {
      "text/plain": [
       "True"
      ]
     },
     "execution_count": 76,
     "metadata": {},
     "output_type": "execute_result"
    }
   ],
   "source": [
    "# in 和 not in 可以用来判断一个元素是否在列表中\n",
    "\n",
    "1 in list_2"
   ]
  },
  {
   "cell_type": "code",
   "execution_count": 77,
   "id": "6123b785-ce76-4d57-b5a3-bc5db378f193",
   "metadata": {},
   "outputs": [
    {
     "data": {
      "text/plain": [
       "False"
      ]
     },
     "execution_count": 77,
     "metadata": {},
     "output_type": "execute_result"
    }
   ],
   "source": [
    "1 not in list_2"
   ]
  },
  {
   "cell_type": "code",
   "execution_count": 79,
   "id": "fec944df-3f1f-45a7-8c45-78c0d2680dd4",
   "metadata": {},
   "outputs": [
    {
     "data": {
      "text/plain": [
       "[1, 2, 3, 4, 5, 6]"
      ]
     },
     "execution_count": 79,
     "metadata": {},
     "output_type": "execute_result"
    }
   ],
   "source": [
    "# 我们可以使用 + 来将连个列表连接在一起\n",
    "list_left = [1, 2, 3]\n",
    "list_right = [4, 5, 6]\n",
    "\n",
    "list_left + list_right"
   ]
  },
  {
   "cell_type": "code",
   "execution_count": 80,
   "id": "facae33e-943c-404a-ba70-03c9883ff110",
   "metadata": {},
   "outputs": [
    {
     "name": "stdout",
     "output_type": "stream",
     "text": [
      "38.7 ns ± 0.818 ns per loop (mean ± std. dev. of 7 runs, 10,000,000 loops each)\n"
     ]
    }
   ],
   "source": [
    "# 但是 + 的效率不如 extend\n",
    "%timeit list_left + list_right"
   ]
  },
  {
   "cell_type": "markdown",
   "id": "7b2cd15d-3514-483d-927c-69e483bd1455",
   "metadata": {},
   "source": [
    "**sort**\n",
    "\n",
    "Python语言提供了内置的sort函数来对列表进行排序："
   ]
  },
  {
   "cell_type": "code",
   "execution_count": 85,
   "id": "1ce07051-bb4f-4062-98ac-7fc575d29bdf",
   "metadata": {},
   "outputs": [],
   "source": [
    "list_unsort = [1, 6, 4, 6, 8, 0, 2, 3, 4, 1, 5, 1]"
   ]
  },
  {
   "cell_type": "code",
   "execution_count": 86,
   "id": "9bd67a9c-2844-4b83-ad88-f9527e0cddb0",
   "metadata": {},
   "outputs": [],
   "source": [
    "list_unsort.sort()"
   ]
  },
  {
   "cell_type": "code",
   "execution_count": 87,
   "id": "5532340b-85dc-4e6b-abd4-70f1d2b72acf",
   "metadata": {},
   "outputs": [
    {
     "data": {
      "text/plain": [
       "[0, 1, 1, 1, 2, 3, 4, 4, 5, 6, 6, 8]"
      ]
     },
     "execution_count": 87,
     "metadata": {},
     "output_type": "execute_result"
    }
   ],
   "source": [
    "list_unsort"
   ]
  },
  {
   "cell_type": "code",
   "execution_count": 88,
   "id": "3ca16021-89c4-446c-a774-b5305847da6a",
   "metadata": {},
   "outputs": [
    {
     "data": {
      "text/plain": [
       "[0, 1, 2]"
      ]
     },
     "execution_count": 88,
     "metadata": {},
     "output_type": "execute_result"
    }
   ],
   "source": [
    "# 切片\n",
    "\n",
    "list_unsort[0:6:2]"
   ]
  },
  {
   "cell_type": "code",
   "execution_count": 89,
   "id": "5abf95a3-3e3f-42b0-8671-0c277ceac2ca",
   "metadata": {},
   "outputs": [
    {
     "data": {
      "text/plain": [
       "[8, 6, 6, 5, 4, 4, 3, 2, 1, 1, 1, 0]"
      ]
     },
     "execution_count": 89,
     "metadata": {},
     "output_type": "execute_result"
    }
   ],
   "source": [
    "list_unsort[::-1]"
   ]
  },
  {
   "cell_type": "markdown",
   "id": "9fc51aaa-c257-4dbc-a657-abb4f9b6acc7",
   "metadata": {},
   "source": [
    "**enumerate**"
   ]
  },
  {
   "cell_type": "markdown",
   "id": "898bab25-75c7-4249-ad6b-58f082f061f8",
   "metadata": {},
   "source": [
    "我们经常需要在遍历一个序列的同时追踪当前元素的索引："
   ]
  },
  {
   "cell_type": "code",
   "execution_count": 91,
   "id": "7b899057-1201-41a8-9ca0-50f429aea107",
   "metadata": {},
   "outputs": [],
   "source": [
    "some_list = ['foo', 'bar', 'baz']"
   ]
  },
  {
   "cell_type": "code",
   "execution_count": 92,
   "id": "5061403c-4d33-4977-9a50-e23a963b9f18",
   "metadata": {},
   "outputs": [],
   "source": [
    "mapping = {}"
   ]
  },
  {
   "cell_type": "code",
   "execution_count": 93,
   "id": "c34dd1bf-4d11-48db-907e-364ece73c5cc",
   "metadata": {},
   "outputs": [],
   "source": [
    "for i,v in enumerate(some_list):\n",
    "    mapping[v] = i"
   ]
  },
  {
   "cell_type": "code",
   "execution_count": 94,
   "id": "8f29775d-e7d5-4938-9d5d-9b8167593c20",
   "metadata": {},
   "outputs": [
    {
     "data": {
      "text/plain": [
       "{'foo': 0, 'bar': 1, 'baz': 2}"
      ]
     },
     "execution_count": 94,
     "metadata": {},
     "output_type": "execute_result"
    }
   ],
   "source": [
    "mapping"
   ]
  },
  {
   "cell_type": "markdown",
   "id": "9fc2ae22-d746-4921-bd97-4c47fb2e8fd7",
   "metadata": {},
   "source": [
    "**sorted**"
   ]
  },
  {
   "cell_type": "markdown",
   "id": "5af55792-db26-4b97-965b-8aa388d9fe93",
   "metadata": {},
   "source": [
    "sorted函数会返回一个已经排序的列表："
   ]
  },
  {
   "cell_type": "code",
   "execution_count": 95,
   "id": "6b3fc58f-a76d-4269-98e0-ee85345cbbb1",
   "metadata": {},
   "outputs": [],
   "source": [
    "list_1 = [1, 4, 8, 2, 3, 7, 0, 9]"
   ]
  },
  {
   "cell_type": "code",
   "execution_count": 96,
   "id": "693417cd-2eef-4b1b-9076-4a8ec2c79fb2",
   "metadata": {},
   "outputs": [],
   "source": [
    "list_sorted = sorted(list_1)"
   ]
  },
  {
   "cell_type": "code",
   "execution_count": 97,
   "id": "f7511777-b865-4f7d-b707-d8eaa66aece5",
   "metadata": {},
   "outputs": [
    {
     "data": {
      "text/plain": [
       "[1, 4, 8, 2, 3, 7, 0, 9]"
      ]
     },
     "execution_count": 97,
     "metadata": {},
     "output_type": "execute_result"
    }
   ],
   "source": [
    "list_1"
   ]
  },
  {
   "cell_type": "code",
   "execution_count": 98,
   "id": "c53cf060-067a-4318-bb35-6be5da3ef2f8",
   "metadata": {},
   "outputs": [
    {
     "data": {
      "text/plain": [
       "[0, 1, 2, 3, 4, 7, 8, 9]"
      ]
     },
     "execution_count": 98,
     "metadata": {},
     "output_type": "execute_result"
    }
   ],
   "source": [
    "list_sorted"
   ]
  },
  {
   "cell_type": "markdown",
   "id": "62470e3e-9b8c-4794-b7da-2958b6dd0139",
   "metadata": {},
   "source": [
    "**字典**"
   ]
  },
  {
   "cell_type": "markdown",
   "id": "aef1658b-290e-41fe-8afc-e38dd7c3fca9",
   "metadata": {},
   "source": [
    "dict更为常用的名字是哈希表或者关联数组。"
   ]
  },
  {
   "cell_type": "code",
   "execution_count": 1,
   "id": "d8fc17da-2081-4ad5-88ff-4cc10e5b2b6a",
   "metadata": {},
   "outputs": [],
   "source": [
    "empty_dict = {}  # 创建一个空列表"
   ]
  },
  {
   "cell_type": "code",
   "execution_count": 2,
   "id": "85c77a98-6dd0-4050-bc38-36dac38df1a0",
   "metadata": {},
   "outputs": [],
   "source": [
    "dict_1 = {'a':'a value', 'b':'b value', 'c':[1, 2, 3, 4, 5]}"
   ]
  },
  {
   "cell_type": "code",
   "execution_count": 3,
   "id": "b2d4bf45-c979-4817-9bda-8c5bcc57deab",
   "metadata": {},
   "outputs": [
    {
     "data": {
      "text/plain": [
       "{'a': 'a value', 'b': 'b value', 'c': [1, 2, 3, 4, 5]}"
      ]
     },
     "execution_count": 3,
     "metadata": {},
     "output_type": "execute_result"
    }
   ],
   "source": [
    "dict_1"
   ]
  },
  {
   "cell_type": "code",
   "execution_count": 5,
   "id": "d963e154-4cec-4bc6-aabf-b7622c696e65",
   "metadata": {},
   "outputs": [
    {
     "data": {
      "text/plain": [
       "'a value'"
      ]
     },
     "execution_count": 5,
     "metadata": {},
     "output_type": "execute_result"
    }
   ],
   "source": [
    "dict_1[\"a\"]"
   ]
  },
  {
   "cell_type": "code",
   "execution_count": 6,
   "id": "e805d4ea-e4fa-466f-b874-a293f6d0cb24",
   "metadata": {},
   "outputs": [
    {
     "data": {
      "text/plain": [
       "[1, 2, 3, 4, 5]"
      ]
     },
     "execution_count": 6,
     "metadata": {},
     "output_type": "execute_result"
    }
   ],
   "source": [
    "dict_1[\"c\"]"
   ]
  },
  {
   "cell_type": "code",
   "execution_count": 8,
   "id": "7a3d5e84-a210-4556-ae0b-c720e08ccf44",
   "metadata": {},
   "outputs": [
    {
     "data": {
      "text/plain": [
       "True"
      ]
     },
     "execution_count": 8,
     "metadata": {},
     "output_type": "execute_result"
    }
   ],
   "source": [
    "\"b\" in dict_1"
   ]
  },
  {
   "cell_type": "code",
   "execution_count": 9,
   "id": "d7750211-fbd4-4736-8201-9352238c2ff2",
   "metadata": {},
   "outputs": [],
   "source": [
    "# pop可以用来进行弹出\n",
    "dict_pop = dict_1.pop('c')"
   ]
  },
  {
   "cell_type": "code",
   "execution_count": 10,
   "id": "21e6c13a-b721-452d-930b-c4deea5a0b31",
   "metadata": {},
   "outputs": [
    {
     "data": {
      "text/plain": [
       "[1, 2, 3, 4, 5]"
      ]
     },
     "execution_count": 10,
     "metadata": {},
     "output_type": "execute_result"
    }
   ],
   "source": [
    "dict_pop"
   ]
  },
  {
   "cell_type": "code",
   "execution_count": 12,
   "id": "bbec7852-0adc-4cf3-a2c4-8bc2b6552f3a",
   "metadata": {},
   "outputs": [
    {
     "data": {
      "text/plain": [
       "['a', 'b', 'c', 'd']"
      ]
     },
     "execution_count": 12,
     "metadata": {},
     "output_type": "execute_result"
    }
   ],
   "source": [
    "# keys和values 可以分为提供字典键和值的迭代器\n",
    "dict_2 = {'a':'a value', 'b':'b value', 'c':'c value', 'd':'d value'}\n",
    "\n",
    "list(dict_2.keys())"
   ]
  },
  {
   "cell_type": "code",
   "execution_count": 13,
   "id": "5ad21b0e-f129-4f59-b3ef-08f244184f74",
   "metadata": {},
   "outputs": [
    {
     "data": {
      "text/plain": [
       "['a value', 'b value', 'c value', 'd value']"
      ]
     },
     "execution_count": 13,
     "metadata": {},
     "output_type": "execute_result"
    }
   ],
   "source": [
    "list(dict_2.values())"
   ]
  },
  {
   "cell_type": "code",
   "execution_count": 14,
   "id": "0039f65e-b2cf-4cea-b2b9-cea4898b464b",
   "metadata": {},
   "outputs": [],
   "source": [
    "# update 可以将两个字典进行合并\n",
    "dict_3 = {'e':'e values', 'f':'f values'}\n",
    "\n",
    "dict_2.update(dict_3)"
   ]
  },
  {
   "cell_type": "code",
   "execution_count": 15,
   "id": "debbcfed-5d0d-4b27-8d3c-b143917cfb9d",
   "metadata": {},
   "outputs": [
    {
     "data": {
      "text/plain": [
       "{'a': 'a value',\n",
       " 'b': 'b value',\n",
       " 'c': 'c value',\n",
       " 'd': 'd value',\n",
       " 'e': 'e values',\n",
       " 'f': 'f values'}"
      ]
     },
     "execution_count": 15,
     "metadata": {},
     "output_type": "execute_result"
    }
   ],
   "source": [
    "dict_2"
   ]
  },
  {
   "cell_type": "code",
   "execution_count": 17,
   "id": "a68a12a1-6c0f-4b69-9ea0-05c41f3856b6",
   "metadata": {},
   "outputs": [],
   "source": [
    "# 从序列生成字典\n",
    "mapping = {}\n",
    "key_list = [0, 1, 2, 3, 4, 5, 6, 7, 8, 9, 10]\n",
    "value_list = [\"a\", \"b\", \"c\", \"d\", \"e\", \"f\", \"g\", \"h\", \"i\", \"j\"]\n",
    "\n",
    "for key, value in zip(key_list, value_list):\n",
    "    mapping[key] = value"
   ]
  },
  {
   "cell_type": "code",
   "execution_count": 18,
   "id": "40690c53-e53a-4042-aecf-6f9ec0a842f0",
   "metadata": {},
   "outputs": [
    {
     "data": {
      "text/plain": [
       "{0: 'a',\n",
       " 1: 'b',\n",
       " 2: 'c',\n",
       " 3: 'd',\n",
       " 4: 'e',\n",
       " 5: 'f',\n",
       " 6: 'g',\n",
       " 7: 'h',\n",
       " 8: 'i',\n",
       " 9: 'j'}"
      ]
     },
     "execution_count": 18,
     "metadata": {},
     "output_type": "execute_result"
    }
   ],
   "source": [
    "mapping"
   ]
  },
  {
   "cell_type": "markdown",
   "id": "73a6b287-9223-40c1-a3f0-7bb598672a85",
   "metadata": {},
   "source": [
    "**集合**"
   ]
  },
  {
   "cell_type": "markdown",
   "id": "01bd88a8-69e9-458e-8d96-3a42c3b34bec",
   "metadata": {},
   "source": [
    "集合是一种无序且元素唯一的容器。"
   ]
  },
  {
   "cell_type": "code",
   "execution_count": 19,
   "id": "b19403c7-f4c8-4cf8-9f9b-d68a7326712f",
   "metadata": {},
   "outputs": [
    {
     "data": {
      "text/plain": [
       "{1, 2, 3, 4, 5, 6}"
      ]
     },
     "execution_count": 19,
     "metadata": {},
     "output_type": "execute_result"
    }
   ],
   "source": [
    "set([1, 1, 2, 3, 4, 5, 6, 1, 2])"
   ]
  },
  {
   "cell_type": "code",
   "execution_count": 20,
   "id": "28eceaab-d8ee-4ace-9efb-6e166ed1391e",
   "metadata": {},
   "outputs": [],
   "source": [
    "a = {1, 2, 3, 4, 5, 6, 7}\n",
    "b = {4, 5, 6, 7, 8, 9, 10}"
   ]
  },
  {
   "cell_type": "code",
   "execution_count": 25,
   "id": "8afa3db9-e7f2-4001-afa1-a7d3e3da8f82",
   "metadata": {},
   "outputs": [
    {
     "data": {
      "text/plain": [
       "{1, 2, 3}"
      ]
     },
     "execution_count": 25,
     "metadata": {},
     "output_type": "execute_result"
    }
   ],
   "source": [
    "a - b  # 差集"
   ]
  },
  {
   "cell_type": "code",
   "execution_count": 27,
   "id": "5a7f9b8b-e47e-40ef-8b68-57cd79e9a74d",
   "metadata": {},
   "outputs": [
    {
     "data": {
      "text/plain": [
       "{4, 5, 6, 7}"
      ]
     },
     "execution_count": 27,
     "metadata": {},
     "output_type": "execute_result"
    }
   ],
   "source": [
    "a & b  # 交集"
   ]
  },
  {
   "attachments": {
    "22db2ba8-d0b8-4068-8ec7-dc8f3db75332.png": {
     "image/png": "[encoded data removed]"
    }
   },
   "cell_type": "markdown",
   "id": "1aedcb72-9cce-451a-81e6-f228719ab1a2",
   "metadata": {},
   "source": [
    "Python集合操作：\n",
    "\n",
    "![image.png](attachment:22db2ba8-d0b8-4068-8ec7-dc8f3db75332.png)"
   ]
  },
  {
   "cell_type": "markdown",
   "id": "0d17a152-59f2-4110-a3f5-d7e4ef67ff96",
   "metadata": {},
   "source": [
    "## 3.2 函数"
   ]
  },
  {
   "cell_type": "markdown",
   "id": "576384e2-8b11-48ed-bb7d-90225205d865",
   "metadata": {},
   "source": [
    "**创建函数**"
   ]
  },
  {
   "cell_type": "markdown",
   "id": "79d4e718-2968-4ee0-aa06-ac9543169254",
   "metadata": {},
   "source": [
    "函数是Python中最主要也是最重要的代码组织和复用手段。作为最重要的原则，如果你要重复使用相同或非常类似的代码，就需要写一个函数。通过给函数起一个名字，还可以提高代码的可读性。"
   ]
  },
  {
   "cell_type": "markdown",
   "id": "c987d534-b7b0-49e7-b161-fe202a85d8f0",
   "metadata": {},
   "source": [
    "函数使用def关键字声明，用return关键字返回值："
   ]
  },
  {
   "cell_type": "code",
   "execution_count": 28,
   "id": "ae33c7cf-97cb-4326-bf3d-dc4658aeb824",
   "metadata": {},
   "outputs": [],
   "source": [
    "def my_function(x, y, z=1.5):\n",
    "    if z > 1:\n",
    "        return z * (x + y)\n",
    "    else:\n",
    "        return z / (x + y)"
   ]
  },
  {
   "cell_type": "markdown",
   "id": "cbeb95fb-4101-44eb-aa80-cb77b6054b94",
   "metadata": {},
   "source": [
    "同时拥有多条return语句也是可以的。如果到达函数末尾时没有遇到任何一条return语句，则返回None。"
   ]
  },
  {
   "cell_type": "markdown",
   "id": "d7e1a88e-288d-45c8-8cc8-cf9d82a56583",
   "metadata": {},
   "source": [
    "函数可以有一些位置参数（positional）和一些关键字参数（keyword）。关键字参数通常用于指定默认值或可选参数。在上面的函数中，x和y是位置参数，而z则是关键字参数。也就是说，该函数可以下面这两种方式进行调用："
   ]
  },
  {
   "cell_type": "code",
   "execution_count": 29,
   "id": "99fedc3d-eed0-404d-b731-7374fd1ef6d0",
   "metadata": {},
   "outputs": [
    {
     "data": {
      "text/plain": [
       "45.0"
      ]
     },
     "execution_count": 29,
     "metadata": {},
     "output_type": "execute_result"
    }
   ],
   "source": [
    "my_function(5, 6, z=0.7)\n",
    "my_function(3.14, 7, 3.5)\n",
    "my_function(10, 20)"
   ]
  },
  {
   "cell_type": "markdown",
   "id": "403854d1-0d36-49ea-aa19-bb710822e230",
   "metadata": {},
   "source": [
    "函数参数的主要限制在于：关键字参数必须位于位置参数（如果有的话）之后。你可以任何顺序指定关键字参数。也就是说，你不用死记硬背函数参数的顺序，只要记得它们的名字就可以了。"
   ]
  },
  {
   "cell_type": "code",
   "execution_count": 30,
   "id": "13426b85-d031-4f1a-96f6-4b0292cefec3",
   "metadata": {},
   "outputs": [
    {
     "data": {
      "text/plain": [
       "77"
      ]
     },
     "execution_count": 30,
     "metadata": {},
     "output_type": "execute_result"
    }
   ],
   "source": [
    "my_function(x=5, y=6, z=7)\n",
    "my_function(y=6, x=5, z=7)"
   ]
  },
  {
   "cell_type": "markdown",
   "id": "4f473921-826a-4369-99e1-7533ddf40673",
   "metadata": {},
   "source": [
    "**命名空间、作用域，和局部函数**"
   ]
  },
  {
   "cell_type": "markdown",
   "id": "63ad8e73-fe19-4e43-99ea-4c31203e86f1",
   "metadata": {},
   "source": [
    "函数可以访问两种不同作用域中的变量：全局（global）和局部（local）。Python有一种更科学的用于描述变量作用域的名称，即命名空间（namespace）。任何在函数中赋值的变量默认都是被分配到局部命名空间（local namespace）中的。局部命名空间是在函数被调用时创建的，函数参数会立即填入该命名空间。在函数执行完毕之后，局部命名空间就会被销毁（会有一些例外的情况，具体请参见后面介绍闭包的那一节）。"
   ]
  },
  {
   "cell_type": "code",
   "execution_count": 31,
   "id": "3366d6b6-c445-4521-a239-b97024df5ea1",
   "metadata": {},
   "outputs": [],
   "source": [
    "def func():\n",
    "    a = []\n",
    "    for i in range(5):\n",
    "        a.append(i)"
   ]
  },
  {
   "cell_type": "markdown",
   "id": "1015ada5-e047-4095-9063-7eecee78897c",
   "metadata": {},
   "source": [
    "调用func()之后，首先会创建出空列表a，然后添加5个元素，最后a会在该函数退出的时候被销毁。假如我们像下面这样定义a："
   ]
  },
  {
   "cell_type": "code",
   "execution_count": 32,
   "id": "c4194ad9-f1d9-4e9a-b4a8-b6c80df9c438",
   "metadata": {},
   "outputs": [],
   "source": [
    "a = []\n",
    "def func():\n",
    "    for i in range(5):\n",
    "        a.append(i)"
   ]
  },
  {
   "cell_type": "markdown",
   "id": "3aa916a8-791d-485d-8dfc-091b8f50412b",
   "metadata": {},
   "source": [
    "虽然可以在函数中对全局变量进行赋值操作，但是那些变量必须用global关键字声明成全局的才行："
   ]
  },
  {
   "cell_type": "code",
   "execution_count": 33,
   "id": "d27fe394-cf4c-47d9-9666-f72060584747",
   "metadata": {},
   "outputs": [
    {
     "name": "stdout",
     "output_type": "stream",
     "text": [
      "[]\n"
     ]
    }
   ],
   "source": [
    "In [168]: a = None\n",
    "\n",
    "In [169]: def bind_a_variable():\n",
    "   .....:     global a\n",
    "   .....:     a = []\n",
    "   .....: bind_a_variable()\n",
    "   .....:\n",
    "\n",
    "In [170]: print(a)"
   ]
  },
  {
   "cell_type": "markdown",
   "id": "ea09361d-e789-4aab-a53c-46add5cc94a5",
   "metadata": {},
   "source": [
    "**匿名（lambda）函数**"
   ]
  },
  {
   "cell_type": "markdown",
   "id": "7439f000-61ec-4867-ac01-a7ff59af4123",
   "metadata": {},
   "source": [
    "Python支持一种被称为匿名的、或lambda函数。它仅由单条语句组成，该语句的结果就是返回值。它是通过lambda关键字定义的，这个关键字没有别的含义，仅仅是说“我们正在声明的是一个匿名函数”。"
   ]
  },
  {
   "cell_type": "code",
   "execution_count": 34,
   "id": "7929213f-9dc1-433c-8902-92f1a8715acb",
   "metadata": {},
   "outputs": [],
   "source": [
    "def short_function(x):\n",
    "    return x * 2\n",
    "\n",
    "equiv_anon = lambda x: x * 2"
   ]
  },
  {
   "cell_type": "markdown",
   "id": "eb60ec39-603d-436c-8eb7-299c1612d864",
   "metadata": {},
   "source": [
    "本书其余部分一般将其称为lambda函数。它们在数据分析工作中非常方便，因为你会发现很多数据转换函数都以函数作为参数的。"
   ]
  },
  {
   "cell_type": "markdown",
   "id": "5987af4a-b7ee-4fa3-81bf-fce08960340b",
   "metadata": {},
   "source": [
    "直接传入lambda函数比编写完整函数声明要少输入很多字（也更清晰），甚至比将lambda函数赋值给一个变量还要少输入很多字。"
   ]
  },
  {
   "cell_type": "code",
   "execution_count": 35,
   "id": "481984a4-1e93-452f-9945-035423925976",
   "metadata": {},
   "outputs": [
    {
     "data": {
      "text/plain": [
       "[8, 0, 2, 10, 12]"
      ]
     },
     "execution_count": 35,
     "metadata": {},
     "output_type": "execute_result"
    }
   ],
   "source": [
    "def apply_to_list(some_list, f):\n",
    "    return [f(x) for x in some_list]\n",
    "\n",
    "ints = [4, 0, 1, 5, 6]\n",
    "apply_to_list(ints, lambda x: x * 2)"
   ]
  },
  {
   "cell_type": "markdown",
   "id": "28ddeba8-e32a-448e-8970-c9beeff6abd7",
   "metadata": {},
   "source": [
    "虽然你可以直接编写 [x *2 for x in ints] ，但是这里我们可以非常轻松地传入一个自定义运算给apply_to_list函数。"
   ]
  },
  {
   "cell_type": "markdown",
   "id": "ac6ad4df-c9fd-4801-aeb9-d2cd0e019c98",
   "metadata": {},
   "source": [
    "再来看另外一个例子。假设有一组字符串，你想要根据各字符串不同字母的数量对其进行排序："
   ]
  },
  {
   "cell_type": "code",
   "execution_count": 36,
   "id": "ba065953-61cf-432f-8719-99fccb9224b8",
   "metadata": {},
   "outputs": [],
   "source": [
    "strings = ['foo', 'card', 'bar', 'aaaa', 'abab']"
   ]
  },
  {
   "cell_type": "markdown",
   "id": "1ef6a4c5-8f9f-46d1-b3b5-2cebe015c7a9",
   "metadata": {},
   "source": [
    "这里，我们可以传入一个lambda函数到列表的sort方法："
   ]
  },
  {
   "cell_type": "code",
   "execution_count": 37,
   "id": "0337fe5e-4f4d-4755-81cc-16aad00042cd",
   "metadata": {},
   "outputs": [
    {
     "data": {
      "text/plain": [
       "['aaaa', 'foo', 'abab', 'bar', 'card']"
      ]
     },
     "execution_count": 37,
     "metadata": {},
     "output_type": "execute_result"
    }
   ],
   "source": [
    "strings.sort(key=lambda x: len(set(list(x))))\n",
    "\n",
    "strings"
   ]
  },
  {
   "cell_type": "markdown",
   "id": "07a003dc-9bed-4d11-98ac-048902923521",
   "metadata": {},
   "source": [
    "## 3.3 文件和操作系统"
   ]
  },
  {
   "cell_type": "markdown",
   "id": "8ab99578-7e59-4072-9826-eeadbf9b148a",
   "metadata": {},
   "source": [
    "打开文件进行读取或者写入，需要使用内建函数open和绝对路径或者相对路径。"
   ]
  },
  {
   "cell_type": "code",
   "execution_count": 41,
   "id": "0c52abfe-4f76-4973-a194-9d776c8df11b",
   "metadata": {},
   "outputs": [],
   "source": [
    "path = \"examples/segismundo.txt\"\n",
    "\n",
    "f = open(path)  # 默认情况之下文件是以只读模式来进行打开的"
   ]
  },
  {
   "cell_type": "code",
   "execution_count": 42,
   "id": "b53ba25c-bcf3-4533-a02b-fff0899c8af4",
   "metadata": {},
   "outputs": [],
   "source": [
    "lines = [x.rstrip() for x in open(path)]"
   ]
  },
  {
   "cell_type": "code",
   "execution_count": 43,
   "id": "1e9878ce-c8c9-4220-b6b1-781c16865003",
   "metadata": {},
   "outputs": [
    {
     "data": {
      "text/plain": [
       "['Sue帽a el rico en su riqueza,',\n",
       " 'que m谩s cuidados le ofrece;',\n",
       " '',\n",
       " 'sue帽a el pobre que padece',\n",
       " 'su miseria y su pobreza;',\n",
       " '',\n",
       " 'sue帽a el que a medrar empieza,',\n",
       " 'sue帽a el que afana y pretende,',\n",
       " 'sue帽a el que agravia y ofende,',\n",
       " '',\n",
       " 'y en el mundo, en conclusi贸n,',\n",
       " 'todos sue帽an lo que son,',\n",
       " 'aunque ninguno lo entiende.']"
      ]
     },
     "execution_count": 43,
     "metadata": {},
     "output_type": "execute_result"
    }
   ],
   "source": [
    "lines"
   ]
  },
  {
   "cell_type": "markdown",
   "id": "6055dc57-cf08-40d0-93cd-02f1aba02a1d",
   "metadata": {},
   "source": [
    "如果是使用open创建文件对象，一定要用close关闭它。\n",
    "\n",
    "关闭文件可以返回操作系统资源："
   ]
  },
  {
   "cell_type": "code",
   "execution_count": 44,
   "id": "d95a66e2-c481-4bd2-abd8-8bfa2564c0c9",
   "metadata": {},
   "outputs": [],
   "source": [
    "f.close()"
   ]
  },
  {
   "cell_type": "markdown",
   "id": "3f2c1055-caf1-45e1-99cf-9866451ecdd3",
   "metadata": {},
   "source": [
    "或者我们可以使用with语句来更加容易的清理打开的文件："
   ]
  },
  {
   "cell_type": "code",
   "execution_count": 48,
   "id": "c606da06-8acf-4f6f-b4a3-b3284288ee83",
   "metadata": {},
   "outputs": [
    {
     "name": "stdout",
     "output_type": "stream",
     "text": [
      "['Sue帽a el rico en su riqueza,', 'que m谩s cuidados le ofrece;', '', 'sue帽a el pobre que padece', 'su miseria y su pobreza;', '', 'sue帽a el que a medrar empieza,', 'sue帽a el que afana y pretende,', 'sue帽a el que agravia y ofende,', '', 'y en el mundo, en conclusi贸n,', 'todos sue帽an lo que son,', 'aunque ninguno lo entiende.']\n"
     ]
    }
   ],
   "source": [
    "with open(path) as f:\n",
    "    lines = [x.rstrip() for x in f]\n",
    "    print(lines)"
   ]
  },
  {
   "cell_type": "markdown",
   "id": "2acaafd7-6e8c-4c97-adab-203120b711ad",
   "metadata": {},
   "source": [
    "在退出代码块的时候，可以自动关闭文件。"
   ]
  },
  {
   "cell_type": "markdown",
   "id": "c436dd85-2fc6-4b27-9714-830726b0515c",
   "metadata": {},
   "source": [
    "如果输入f =open(path,'w')，就会有一个新文件被创建在examples/segismundo.txt，并覆盖掉该位置原来的任何数据。另外有一个x文件模式，它可以创建可写的文件，但是如果文件路径存在，就无法创建。表3-3列出了所有的读/写模式。"
   ]
  },
  {
   "attachments": {
    "06173813-0e94-4e93-a429-88b3339c8e89.png": {
     "image/png": "[encoded data removed]"
    }
   },
   "cell_type": "markdown",
   "id": "1ebbb2a6-0aa9-42df-aa76-d71d0ae17054",
   "metadata": {},
   "source": [
    "打开模式的常用列表如下所示：\n",
    "\n",
    "![image.png](attachment:06173813-0e94-4e93-a429-88b3339c8e89.png)"
   ]
  },
  {
   "cell_type": "code",
   "execution_count": 51,
   "id": "7b082edb-fc92-43ff-b884-d06052dd7e7c",
   "metadata": {},
   "outputs": [],
   "source": [
    "with open('examples/tmp.txt', 'w') as handle:\n",
    "    handle.writelines(x for x in open(path) if len(x) > 1)"
   ]
  },
  {
   "cell_type": "code",
   "execution_count": 53,
   "id": "2cd0f76f-188b-4ed2-99db-ea03f6ad754b",
   "metadata": {},
   "outputs": [],
   "source": [
    "with open('examples/tmp.txt') as f:\n",
    "    lines = f.readlines()"
   ]
  },
  {
   "cell_type": "code",
   "execution_count": 54,
   "id": "ae1e11f2-0ead-4448-81cd-7360a3f4441f",
   "metadata": {},
   "outputs": [
    {
     "data": {
      "text/plain": [
       "['Sue帽a el rico en su riqueza,\\n',\n",
       " 'que m谩s cuidados le ofrece;\\n',\n",
       " 'sue帽a el pobre que padece\\n',\n",
       " 'su miseria y su pobreza;\\n',\n",
       " 'sue帽a el que a medrar empieza,\\n',\n",
       " 'sue帽a el que afana y pretende,\\n',\n",
       " 'sue帽a el que agravia y ofende,\\n',\n",
       " 'y en el mundo, en conclusi贸n,\\n',\n",
       " 'todos sue帽an lo que son,\\n',\n",
       " 'aunque ninguno lo entiende.']"
      ]
     },
     "execution_count": 54,
     "metadata": {},
     "output_type": "execute_result"
    }
   ],
   "source": [
    "lines"
   ]
  },
  {
   "attachments": {
    "4fdf50f2-c846-4f2d-95ce-dd7f1d78be2b.png": {
     "image/png": "[encoded data removed]"
    }
   },
   "cell_type": "markdown",
   "id": "e9527863-d7c1-48cf-9231-891024836c8b",
   "metadata": {},
   "source": [
    "这是一些最常用的文件方法：\n",
    "\n",
    "![image.png](attachment:4fdf50f2-c846-4f2d-95ce-dd7f1d78be2b.png)"
   ]
  }
 ],
 "metadata": {
  "kernelspec": {
   "display_name": "Python 3 (ipykernel)",
   "language": "python",
   "name": "python3"
  },
  "language_info": {
   "codemirror_mode": {
    "name": "ipython",
    "version": 3
   },
   "file_extension": ".py",
   "mimetype": "text/x-python",
   "name": "python",
   "nbconvert_exporter": "python",
   "pygments_lexer": "ipython3",
   "version": "3.10.5"
  }
 },
 "nbformat": 4,
 "nbformat_minor": 5
}
