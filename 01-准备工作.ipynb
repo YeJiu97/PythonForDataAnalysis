{
 "cells": [
  {
   "cell_type": "markdown",
   "id": "26d8fccc-aeba-4821-88b4-c38bab69a821",
   "metadata": {},
   "source": [
    "## 1.1 什么样的数据"
   ]
  },
  {
   "cell_type": "markdown",
   "id": "657fcf1a-1edc-4c95-b33d-33a6cb5510bd",
   "metadata": {},
   "source": [
    "数据指的是 结构化数据（structured data），可以指向所有通用格式的数据：\n",
    "\n",
    "1. 表格型的数据\n",
    "2. 多维数组\n",
    "3. 由键位列关联的多张表数据\n",
    "4. 均匀或者非均匀的时间序列\n",
    "\n",
    "此外，还有许多别的类型的数据。"
   ]
  },
  {
   "cell_type": "markdown",
   "id": "d7408228-4c84-40a9-b967-0474ca8aa371",
   "metadata": {},
   "source": [
    "## 1.2 为何使用Python进行数据分析"
   ]
  },
  {
   "cell_type": "markdown",
   "id": "e1acca4b-a9de-482a-88a7-9486d3660578",
   "metadata": {},
   "source": [
    "自从1991年诞生以来，Python现在已经成为最受欢迎的动态编程语言之一，其他还有Perl、Ruby等。\n",
    "\n",
    "自从2005年，使用Python和Ruby进行网站建设工作非常流行，因为有着大量的Web框架（比如说Flask或者Django）。"
   ]
  },
  {
   "cell_type": "markdown",
   "id": "e274dfcb-bbf1-40fd-8cd2-7a874a5b06e1",
   "metadata": {},
   "source": [
    "在数据分析、交互式计算以及数据可视化方面，Python将不可避免地与其他开源和商业的领域特定编程语言/工具进行对比，如R、MATLAB、SAS、Stata等。\n",
    "\n",
    "近年来，由于Python的库（例如pandas和scikit-learn）不断改良，使其成为数据分析任务的一个优选方案。结合其在通用编程方面的强大实力，我们完全可以只使用Python这一种语言构建以数据为中心的应用。"
   ]
  },
  {
   "cell_type": "markdown",
   "id": "eb0e214e-dc32-43ae-a484-791b69019678",
   "metadata": {},
   "source": [
    "Python有些时候也不会被选择来进行使用：\n",
    "\n",
    "1. Python是解释型语言\n",
    "2. Python的运行效率比C++或者Java来的慢\n",
    "3. Python拥有全局解释器锁（GIL），用来防止解释器同时执行多个Python指令。"
   ]
  },
  {
   "cell_type": "markdown",
   "id": "7332892c-1efe-4b96-b41d-15b193c84199",
   "metadata": {},
   "source": [
    "## 1.3 重要的Python库"
   ]
  },
  {
   "cell_type": "markdown",
   "id": "85599bb8-e80c-4810-9aa7-80a1b9687e38",
   "metadata": {},
   "source": [
    "**NumPy 库**"
   ]
  },
  {
   "cell_type": "markdown",
   "id": "476e88c9-5f0a-4442-818d-7e2368f45fcf",
   "metadata": {},
   "source": [
    "NumPy（Numerical Python的简称）是Python科学计算的基础包。\n",
    "\n",
    "NumPy提供了多种数据结构，算法以及大部分设计Python数值计算所需的接口。\n",
    "\n",
    "Numpy还包括一些其他的内容：\n",
    "\n",
    "1. 快速，高效的多维数组对象 ndarray\n",
    "2. 基于元素的数组计算或数组间数学操作函数\n",
    "3. 用于读写硬盘中基于数组的数据集的工具\n",
    "4. 线性代数操作，傅里叶变换以及随机数生成\n",
    "5. 成熟的c语言API，允许Python扩展和本地的c或者C++代码访问NumPy的数据结构和计算设施\n",
    "\n",
    "除了为Python提供快速的数组处理能力，NumPy在数据分析方面还有另外一个主要作用，即作为在算法和库之间传递数据的容器。"
   ]
  },
  {
   "cell_type": "markdown",
   "id": "1251132e-7646-4f66-a940-b521042e1cbc",
   "metadata": {},
   "source": [
    "**Pandas 库**"
   ]
  },
  {
   "cell_type": "markdown",
   "id": "9fd79c37-752a-4d27-b8f4-a01d0c9228e7",
   "metadata": {},
   "source": [
    "pandas提供了快速便捷处理结构化数据的大量数据结构和函数。\n",
    "\n",
    "本书用得最多的pandas对象是DataFrame，它是一个面向列（column-oriented）的二维表结构，另一个是Series，一个一维的标签化数组对象。\n",
    "\n",
    "pandas兼具NumPy高性能的数组计算功能以及电子表格和关系型数据库（如SQL）灵活的数据处理功能。\n",
    "\n",
    "对于使用R语言进行统计计算的用户，肯定不会对DataFrame这个名字感到陌生，因为它源自于R的data.frame对象。但与Python不同，data frames是构建于R和它的标准库。因此，pandas的许多功能不属于R或它的扩展包。\n",
    "\n",
    "pandas这个名字源于panel data（面板数据，这是多维结构化数据集在计量经济学中的术语）以及Python data analysis（Python数据分析）。"
   ]
  },
  {
   "cell_type": "markdown",
   "id": "255571ca-e98f-4a00-8d3e-6cd1ede91f4f",
   "metadata": {},
   "source": [
    "**Matplotlib 库**"
   ]
  },
  {
   "cell_type": "markdown",
   "id": "9a54fa60-2d49-4034-80e5-07a72af3f313",
   "metadata": {},
   "source": [
    "matplotlib是最流行的用于绘制图表和其它二维数据可视化的Python库。\n",
    "\n",
    "虽然还有其它的Python可视化库，matplotlib却是使用最广泛的，并且它和其它生态工具配合也非常完美。我认为，可以使用它作为默认的可视化工具。"
   ]
  },
  {
   "cell_type": "markdown",
   "id": "2cb90c0b-6c20-4a93-a7d1-7587fd2c20f4",
   "metadata": {},
   "source": [
    "**Ipython 与 Jupyter**"
   ]
  },
  {
   "cell_type": "markdown",
   "id": "e5353d53-a9cb-42eb-9913-e96c5210d8fa",
   "metadata": {},
   "source": [
    "IPython项目起初是Fernando Pérez在2001年的一个用以加强和Python交互的子项目。\n",
    "\n",
    "Ipython是一个更具交互性的Python解释器。\n",
    "\n",
    "Ipython本身并不提供任何计算或者数据分析工具，但是Ipython是数据技术栈中最重要的工具之一。\n",
    "\n",
    "Ipython提供了一种 执行-探索 工作流来替代其他语言中的典型的 编辑-编译-运行 这一工作流。"
   ]
  },
  {
   "cell_type": "markdown",
   "id": "5a451fd6-bd5d-4a4e-8263-0d9742457c58",
   "metadata": {},
   "source": [
    "2014年，Fernando和IPython团队宣布了Jupyter项目，一个更宽泛的多语言交互计算工具的计划。\n",
    "\n",
    "IPython web notebook变成了Jupyter notebook，现在支持40种编程语言。"
   ]
  },
  {
   "cell_type": "markdown",
   "id": "120ccc3a-0d66-4205-9e74-061f701dcb08",
   "metadata": {},
   "source": [
    "**SciPy 库**"
   ]
  },
  {
   "cell_type": "markdown",
   "id": "2e8ae62a-167f-41a4-af3d-355fc2972b7a",
   "metadata": {},
   "source": [
    "SciPy是一组专门解决科学计算中各种标准问题域的包的集合，主要包括下面这些包：\n",
    "\n",
    "- scipy.integrate：数值积分例程和微分方程求解器。\n",
    "- scipy.linalg：扩展了由numpy.linalg提供的线性代数例程和矩阵分解功能。\n",
    "- scipy.optimize：函数优化器（最小化器）以及根查找算法。\n",
    "- scipy.signal：信号处理工具。\n",
    "- scipy.sparse：稀疏矩阵和稀疏线性系统求解器。\n",
    "- scipy.special：SPECFUN（这是一个实现了许多常用数学函数（如伽玛函数）的Fortran库）的包装器。\n",
    "- scipy.stats：标准连续和离散概率分布（如密度函数、采样器、连续分布函数等）、各种统计检验方法，以及更好的描述统计法。\n",
    "\n",
    "NumPy和SciPy结合使用，便形成了一个相当完备和成熟的计算平台，可以处理多种传统的科学计算问题。"
   ]
  },
  {
   "cell_type": "markdown",
   "id": "a589d5b7-2f6c-436c-b4a5-4b6d1273d7c7",
   "metadata": {},
   "source": [
    "**scikit-learn**"
   ]
  },
  {
   "cell_type": "markdown",
   "id": "0366fe9a-6654-4271-93b4-3dabcc37702f",
   "metadata": {},
   "source": [
    "2010年诞生以来，scikit-learn成为了Python的通用机器学习工具包。仅仅七年，就汇聚了全世界超过1500名贡献者。它的子模块包括：\n",
    "\n",
    "- 分类：SVM、近邻、随机森林、逻辑回归等等。\n",
    "- 回归：Lasso、岭回归等等。\n",
    "- 聚类：k-均值、谱聚类等等。\n",
    "- 降维：PCA、特征选择、矩阵分解等等。\n",
    "- 选型：网格搜索、交叉验证、度量。\n",
    "- 预处理：特征提取、标准化。\n",
    "\n",
    "与pandas、statsmodels和IPython一起，scikit-learn对于Python成为高效数据科学编程语言起到了关键作用。虽然本书不会详细讲解scikit-learn，我会简要介绍它的一些模型，以及用其它工具如何使用这些模型。"
   ]
  },
  {
   "cell_type": "markdown",
   "id": "a3c6ccf6-8e2e-4011-8ef8-938dfaa552a7",
   "metadata": {},
   "source": [
    "**statsmodels**"
   ]
  },
  {
   "cell_type": "markdown",
   "id": "6a94a574-7bcc-443f-bb16-8bc4d4fc0583",
   "metadata": {},
   "source": [
    "statsmodels是一个统计分析包，起源于斯坦福大学统计学教授Jonathan Taylor，他设计了多种流行于R语言的回归分析模型。Skipper Seabold和Josef Perktold在2010年正式创建了statsmodels项目，随后汇聚了大量的使用者和贡献者。受到R的公式系统的启发，Nathaniel Smith发展出了Patsy项目，它提供了statsmodels的公式或模型的规范框架。\n",
    "\n",
    "与scikit-learn比较，statsmodels包含经典统计学和经济计量学的算法。包括如下子模块：\n",
    "\n",
    "- 回归模型：线性回归，广义线性模型，健壮线性模型，线性混合效应模型等等。\n",
    "- 方差分析（ANOVA）。\n",
    "- 时间序列分析：AR，ARMA，ARIMA，VAR和其它模型。\n",
    "- 非参数方法： 核密度估计，核回归。\n",
    "- 统计模型结果可视化。\n",
    "\n",
    "statsmodels更关注与统计推断，提供不确定估计和参数p-值。相反的，scikit-learn注重预测。\n",
    "\n",
    "同scikit-learn一样，我也只是简要介绍statsmodels，以及如何用NumPy和pandas使用它。"
   ]
  },
  {
   "cell_type": "markdown",
   "id": "0a262d64-169c-4fc7-bbc2-d1cc2ef58c0c",
   "metadata": {},
   "source": [
    "## 1.4 开发环境"
   ]
  },
  {
   "cell_type": "markdown",
   "id": "62889670-4743-49c0-9471-1810bb987057",
   "metadata": {},
   "source": [
    "当创建软件时，一些用户可能更想使用特点更为丰富的IDE，而不仅仅是原始的Emacs或Vim的文本编辑器。以下是一些IDE：\n",
    "\n",
    "- PyDev（免费），基于Eclipse平台的IDE；\n",
    "- JetBrains的PyCharm（商业用户需要订阅，开源开发者免费）；\n",
    "- Visual Studio（Windows用户）的Python Tools；\n",
    "- Spyder（免费），Anaconda附带的IDE；\n",
    "- Komodo IDE（商业）。\n",
    "\n",
    "因为Python的流行，大多数文本编辑器，比如Atom和Sublime Text 3，对Python的支持也非常好。"
   ]
  },
  {
   "cell_type": "markdown",
   "id": "cf6c2c8b-38fb-43ba-835c-529bef09cb0c",
   "metadata": {},
   "source": [
    "## 1.5 库的导入和别名"
   ]
  },
  {
   "cell_type": "markdown",
   "id": "c779ef31-a4f9-4093-bb0b-370d43300775",
   "metadata": {},
   "source": [
    "Python社区已经广泛采取了一些常用模块的命名惯例："
   ]
  },
  {
   "cell_type": "markdown",
   "id": "8312be1e-60b0-4033-8a3f-51b6db461d43",
   "metadata": {},
   "source": [
    "```\n",
    "import numpy as np\n",
    "import matplotlib.pyplot as plt\n",
    "import pandas as pd\n",
    "import seaborn as sns\n",
    "import statsmodels as sm\n",
    "```"
   ]
  },
  {
   "cell_type": "markdown",
   "id": "b119f25d-f5d7-489e-b80f-d339926e0f5f",
   "metadata": {},
   "source": [
    "也就是说，当你看到np.arange时，就应该想到它引用的是NumPy中的arange函数。这样做的原因是：在Python软件开发过程中，不建议直接引入类似NumPy这种大型库的全部内容（from numpy import *）。"
   ]
  }
 ],
 "metadata": {
  "kernelspec": {
   "display_name": "Python 3 (ipykernel)",
   "language": "python",
   "name": "python3"
  },
  "language_info": {
   "codemirror_mode": {
    "name": "ipython",
    "version": 3
   },
   "file_extension": ".py",
   "mimetype": "text/x-python",
   "name": "python",
   "nbconvert_exporter": "python",
   "pygments_lexer": "ipython3",
   "version": "3.10.5"
  }
 },
 "nbformat": 4,
 "nbformat_minor": 5
}
